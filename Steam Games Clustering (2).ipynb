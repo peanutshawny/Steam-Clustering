{
 "cells": [
  {
   "cell_type": "code",
   "execution_count": 34,
   "metadata": {},
   "outputs": [],
   "source": [
    "# import packages\n",
    "\n",
    "import pandas as pd\n",
    "import numpy as np\n",
    "import os\n",
    "import statsmodels.api as sm\n",
    "import matplotlib.pyplot as plt\n",
    "from kmodes.kmodes import KModes\n",
    "from sklearn.linear_model import LinearRegression\n",
    "\n",
    "# setting path\n",
    "\n",
    "path = 'C:\\Python\\webscrape'\n",
    "os.chdir(path) "
   ]
  },
  {
   "cell_type": "code",
   "execution_count": 2,
   "metadata": {
    "scrolled": false
   },
   "outputs": [
    {
     "name": "stderr",
     "output_type": "stream",
     "text": [
      "b'Skipping line 2046: expected 6 fields, saw 7\\nSkipping line 4379: expected 6 fields, saw 7\\nSkipping line 4628: expected 6 fields, saw 7\\nSkipping line 6310: expected 6 fields, saw 7\\nSkipping line 8265: expected 6 fields, saw 7\\nSkipping line 8802: expected 6 fields, saw 7\\nSkipping line 9020: expected 6 fields, saw 7\\nSkipping line 9259: expected 6 fields, saw 7\\nSkipping line 11112: expected 6 fields, saw 7\\nSkipping line 11113: expected 6 fields, saw 7\\nSkipping line 11114: expected 6 fields, saw 7\\nSkipping line 11115: expected 6 fields, saw 7\\nSkipping line 11116: expected 6 fields, saw 7\\nSkipping line 11117: expected 6 fields, saw 7\\nSkipping line 11118: expected 6 fields, saw 7\\nSkipping line 11119: expected 6 fields, saw 7\\nSkipping line 11120: expected 6 fields, saw 7\\nSkipping line 11121: expected 6 fields, saw 7\\nSkipping line 11122: expected 6 fields, saw 7\\nSkipping line 11123: expected 6 fields, saw 7\\nSkipping line 11124: expected 6 fields, saw 7\\nSkipping line 11125: expected 6 fields, saw 7\\nSkipping line 11126: expected 6 fields, saw 7\\nSkipping line 12092: expected 6 fields, saw 7\\nSkipping line 12247: expected 6 fields, saw 7\\nSkipping line 12300: expected 6 fields, saw 7\\nSkipping line 12306: expected 6 fields, saw 7\\nSkipping line 14693: expected 6 fields, saw 7\\nSkipping line 14694: expected 6 fields, saw 7\\nSkipping line 14695: expected 6 fields, saw 7\\nSkipping line 14696: expected 6 fields, saw 7\\nSkipping line 14697: expected 6 fields, saw 7\\nSkipping line 14698: expected 6 fields, saw 7\\nSkipping line 14699: expected 6 fields, saw 7\\nSkipping line 14700: expected 6 fields, saw 7\\nSkipping line 14701: expected 6 fields, saw 7\\nSkipping line 14702: expected 6 fields, saw 7\\nSkipping line 14703: expected 6 fields, saw 7\\nSkipping line 14704: expected 6 fields, saw 7\\nSkipping line 14705: expected 6 fields, saw 7\\nSkipping line 14706: expected 6 fields, saw 7\\nSkipping line 14707: expected 6 fields, saw 7\\nSkipping line 14708: expected 6 fields, saw 7\\nSkipping line 14709: expected 6 fields, saw 7\\nSkipping line 14710: expected 6 fields, saw 7\\nSkipping line 14941: expected 6 fields, saw 7\\nSkipping line 15402: expected 6 fields, saw 7\\nSkipping line 15451: expected 6 fields, saw 7\\nSkipping line 16827: expected 6 fields, saw 7\\nSkipping line 17285: expected 6 fields, saw 7\\nSkipping line 25635: expected 6 fields, saw 7\\nSkipping line 26237: expected 6 fields, saw 7\\nSkipping line 26282: expected 6 fields, saw 7\\n'\n"
     ]
    }
   ],
   "source": [
    "# reading from csv\n",
    "\n",
    "data = pd.read_csv('steam_sales May, 12, 2019.txt', delimiter = '*', error_bad_lines = False)"
   ]
  },
  {
   "cell_type": "code",
   "execution_count": 3,
   "metadata": {},
   "outputs": [],
   "source": [
    "# converting discount to decimal and replacing NA's with 0\n",
    "\n",
    "data['discount'] = data['discount'].str.rstrip('%').astype('float') / 100.0 *(-1)\n",
    "data[['discount','discounted price']] = data[['discount','discounted price']].fillna(value = 0)"
   ]
  },
  {
   "cell_type": "code",
   "execution_count": 4,
   "metadata": {},
   "outputs": [],
   "source": [
    "# converting 'free to play' to 0 and stripping unecessary strings from original price\n",
    "\n",
    "data = data.replace(to_replace = ['Free to Play', 'Free To Play', 'Free', 'Play for Free!', \n",
    "                                  'Free Demo', 'Free Movie', '1 Season', 'Third-party',\n",
    "                                  'Play Now', 'Free Mod', 'From CDN$ 25.60', 'Install',\n",
    "                                  'CDN$ 1,200.76', 'From CDN$ 25.31', 'From CDN$ 19.20'], value = np.nan)\n",
    "\n",
    "data['original price'] = data['original price'].str.lstrip('CDN$ ').astype('float')\n",
    "data['original price'] = data['original price'].fillna(value = 0)"
   ]
  },
  {
   "cell_type": "code",
   "execution_count": 5,
   "metadata": {},
   "outputs": [],
   "source": [
    "# formatting discounted price\n",
    "\n",
    "data = data.replace(to_replace = 'CDN$ 1,063.85\t\t\t\t\t\t\t', value = np.nan)\n",
    "data['discounted price'] = data['discounted price'].str.lstrip('CDN$ ').str.rstrip('\\t\\t\\t\\t\\t\\t\\t').astype('float')\n",
    "data['discounted price'] = data['discounted price'].fillna(value = data['original price'])"
   ]
  },
  {
   "cell_type": "code",
   "execution_count": 6,
   "metadata": {},
   "outputs": [
    {
     "data": {
      "text/html": [
       "<div>\n",
       "<style scoped>\n",
       "    .dataframe tbody tr th:only-of-type {\n",
       "        vertical-align: middle;\n",
       "    }\n",
       "\n",
       "    .dataframe tbody tr th {\n",
       "        vertical-align: top;\n",
       "    }\n",
       "\n",
       "    .dataframe thead th {\n",
       "        text-align: right;\n",
       "    }\n",
       "</style>\n",
       "<table border=\"1\" class=\"dataframe\">\n",
       "  <thead>\n",
       "    <tr style=\"text-align: right;\">\n",
       "      <th></th>\n",
       "      <th>title</th>\n",
       "      <th>date</th>\n",
       "      <th>reviews</th>\n",
       "      <th>discount</th>\n",
       "      <th>original price</th>\n",
       "      <th>discounted price</th>\n",
       "    </tr>\n",
       "  </thead>\n",
       "  <tbody>\n",
       "    <tr>\n",
       "      <th>0</th>\n",
       "      <td>Dota 2</td>\n",
       "      <td>9 Jul 2013</td>\n",
       "      <td>Very Positive</td>\n",
       "      <td>0.00</td>\n",
       "      <td>0.00</td>\n",
       "      <td>0.00</td>\n",
       "    </tr>\n",
       "    <tr>\n",
       "      <th>1</th>\n",
       "      <td>MORDHAU</td>\n",
       "      <td>29 Apr 2019</td>\n",
       "      <td>Mostly Positive</td>\n",
       "      <td>0.00</td>\n",
       "      <td>33.99</td>\n",
       "      <td>33.99</td>\n",
       "    </tr>\n",
       "    <tr>\n",
       "      <th>2</th>\n",
       "      <td>Stellaris</td>\n",
       "      <td>9 May 2016</td>\n",
       "      <td>Mostly Positive</td>\n",
       "      <td>0.75</td>\n",
       "      <td>43.99</td>\n",
       "      <td>10.99</td>\n",
       "    </tr>\n",
       "    <tr>\n",
       "      <th>3</th>\n",
       "      <td>Stellaris: Starter Pack</td>\n",
       "      <td>NaN</td>\n",
       "      <td>Mostly Positive</td>\n",
       "      <td>0.66</td>\n",
       "      <td>88.77</td>\n",
       "      <td>30.03</td>\n",
       "    </tr>\n",
       "    <tr>\n",
       "      <th>4</th>\n",
       "      <td>Counter-Strike: Global Offensive</td>\n",
       "      <td>21 Aug 2012</td>\n",
       "      <td>Very Positive</td>\n",
       "      <td>0.00</td>\n",
       "      <td>0.00</td>\n",
       "      <td>0.00</td>\n",
       "    </tr>\n",
       "  </tbody>\n",
       "</table>\n",
       "</div>"
      ],
      "text/plain": [
       "                              title         date          reviews  discount  \\\n",
       "0                            Dota 2   9 Jul 2013    Very Positive      0.00   \n",
       "1                           MORDHAU  29 Apr 2019  Mostly Positive      0.00   \n",
       "2                         Stellaris   9 May 2016  Mostly Positive      0.75   \n",
       "3           Stellaris: Starter Pack          NaN  Mostly Positive      0.66   \n",
       "4  Counter-Strike: Global Offensive  21 Aug 2012    Very Positive      0.00   \n",
       "\n",
       "   original price  discounted price  \n",
       "0            0.00              0.00  \n",
       "1           33.99             33.99  \n",
       "2           43.99             10.99  \n",
       "3           88.77             30.03  \n",
       "4            0.00              0.00  "
      ]
     },
     "execution_count": 6,
     "metadata": {},
     "output_type": "execute_result"
    }
   ],
   "source": [
    "data.head()"
   ]
  },
  {
   "cell_type": "code",
   "execution_count": 7,
   "metadata": {},
   "outputs": [],
   "source": [
    "# filling in 'None' reviews and one hot encoding to handle categorical review variable\n",
    "\n",
    "data['reviews'] = data['reviews'].fillna(value = 'None')\n",
    "data = pd.concat([data ,pd.get_dummies(data['reviews'], drop_first = True)],axis=1)\n",
    "data.drop(['reviews'], axis=1, inplace=True)"
   ]
  },
  {
   "cell_type": "code",
   "execution_count": 8,
   "metadata": {},
   "outputs": [
    {
     "data": {
      "text/html": [
       "<div>\n",
       "<style scoped>\n",
       "    .dataframe tbody tr th:only-of-type {\n",
       "        vertical-align: middle;\n",
       "    }\n",
       "\n",
       "    .dataframe tbody tr th {\n",
       "        vertical-align: top;\n",
       "    }\n",
       "\n",
       "    .dataframe thead th {\n",
       "        text-align: right;\n",
       "    }\n",
       "</style>\n",
       "<table border=\"1\" class=\"dataframe\">\n",
       "  <thead>\n",
       "    <tr style=\"text-align: right;\">\n",
       "      <th></th>\n",
       "      <th>title</th>\n",
       "      <th>date</th>\n",
       "      <th>discount</th>\n",
       "      <th>original price</th>\n",
       "      <th>discounted price</th>\n",
       "      <th>Mostly Negative</th>\n",
       "      <th>Mostly Positive</th>\n",
       "      <th>None</th>\n",
       "      <th>Overwhelmingly Positive</th>\n",
       "      <th>Positive</th>\n",
       "      <th>Very Positive</th>\n",
       "    </tr>\n",
       "  </thead>\n",
       "  <tbody>\n",
       "    <tr>\n",
       "      <th>0</th>\n",
       "      <td>Dota 2</td>\n",
       "      <td>9 Jul 2013</td>\n",
       "      <td>0.00</td>\n",
       "      <td>0.00</td>\n",
       "      <td>0.00</td>\n",
       "      <td>0</td>\n",
       "      <td>0</td>\n",
       "      <td>0</td>\n",
       "      <td>0</td>\n",
       "      <td>0</td>\n",
       "      <td>1</td>\n",
       "    </tr>\n",
       "    <tr>\n",
       "      <th>1</th>\n",
       "      <td>MORDHAU</td>\n",
       "      <td>29 Apr 2019</td>\n",
       "      <td>0.00</td>\n",
       "      <td>33.99</td>\n",
       "      <td>33.99</td>\n",
       "      <td>0</td>\n",
       "      <td>1</td>\n",
       "      <td>0</td>\n",
       "      <td>0</td>\n",
       "      <td>0</td>\n",
       "      <td>0</td>\n",
       "    </tr>\n",
       "    <tr>\n",
       "      <th>2</th>\n",
       "      <td>Stellaris</td>\n",
       "      <td>9 May 2016</td>\n",
       "      <td>0.75</td>\n",
       "      <td>43.99</td>\n",
       "      <td>10.99</td>\n",
       "      <td>0</td>\n",
       "      <td>1</td>\n",
       "      <td>0</td>\n",
       "      <td>0</td>\n",
       "      <td>0</td>\n",
       "      <td>0</td>\n",
       "    </tr>\n",
       "    <tr>\n",
       "      <th>3</th>\n",
       "      <td>Stellaris: Starter Pack</td>\n",
       "      <td>NaN</td>\n",
       "      <td>0.66</td>\n",
       "      <td>88.77</td>\n",
       "      <td>30.03</td>\n",
       "      <td>0</td>\n",
       "      <td>1</td>\n",
       "      <td>0</td>\n",
       "      <td>0</td>\n",
       "      <td>0</td>\n",
       "      <td>0</td>\n",
       "    </tr>\n",
       "    <tr>\n",
       "      <th>4</th>\n",
       "      <td>Counter-Strike: Global Offensive</td>\n",
       "      <td>21 Aug 2012</td>\n",
       "      <td>0.00</td>\n",
       "      <td>0.00</td>\n",
       "      <td>0.00</td>\n",
       "      <td>0</td>\n",
       "      <td>0</td>\n",
       "      <td>0</td>\n",
       "      <td>0</td>\n",
       "      <td>0</td>\n",
       "      <td>1</td>\n",
       "    </tr>\n",
       "  </tbody>\n",
       "</table>\n",
       "</div>"
      ],
      "text/plain": [
       "                              title         date  discount  original price  \\\n",
       "0                            Dota 2   9 Jul 2013      0.00            0.00   \n",
       "1                           MORDHAU  29 Apr 2019      0.00           33.99   \n",
       "2                         Stellaris   9 May 2016      0.75           43.99   \n",
       "3           Stellaris: Starter Pack          NaN      0.66           88.77   \n",
       "4  Counter-Strike: Global Offensive  21 Aug 2012      0.00            0.00   \n",
       "\n",
       "   discounted price  Mostly Negative  Mostly Positive  None  \\\n",
       "0              0.00                0                0     0   \n",
       "1             33.99                0                1     0   \n",
       "2             10.99                0                1     0   \n",
       "3             30.03                0                1     0   \n",
       "4              0.00                0                0     0   \n",
       "\n",
       "   Overwhelmingly Positive  Positive  Very Positive  \n",
       "0                        0         0              1  \n",
       "1                        0         0              0  \n",
       "2                        0         0              0  \n",
       "3                        0         0              0  \n",
       "4                        0         0              1  "
      ]
     },
     "execution_count": 8,
     "metadata": {},
     "output_type": "execute_result"
    }
   ],
   "source": [
    "data.head()"
   ]
  },
  {
   "cell_type": "code",
   "execution_count": 9,
   "metadata": {},
   "outputs": [
    {
     "data": {
      "text/html": [
       "<div>\n",
       "<style scoped>\n",
       "    .dataframe tbody tr th:only-of-type {\n",
       "        vertical-align: middle;\n",
       "    }\n",
       "\n",
       "    .dataframe tbody tr th {\n",
       "        vertical-align: top;\n",
       "    }\n",
       "\n",
       "    .dataframe thead th {\n",
       "        text-align: right;\n",
       "    }\n",
       "</style>\n",
       "<table border=\"1\" class=\"dataframe\">\n",
       "  <thead>\n",
       "    <tr style=\"text-align: right;\">\n",
       "      <th></th>\n",
       "      <th>discount</th>\n",
       "      <th>original price</th>\n",
       "      <th>discounted price</th>\n",
       "      <th>Mostly Negative</th>\n",
       "      <th>Mostly Positive</th>\n",
       "      <th>None</th>\n",
       "      <th>Overwhelmingly Positive</th>\n",
       "      <th>Positive</th>\n",
       "      <th>Very Positive</th>\n",
       "    </tr>\n",
       "  </thead>\n",
       "  <tbody>\n",
       "    <tr>\n",
       "      <th>count</th>\n",
       "      <td>26297.000000</td>\n",
       "      <td>26297.000000</td>\n",
       "      <td>26297.000000</td>\n",
       "      <td>26297.000000</td>\n",
       "      <td>26297.000000</td>\n",
       "      <td>26297.000000</td>\n",
       "      <td>26297.000000</td>\n",
       "      <td>26297.000000</td>\n",
       "      <td>26297.000000</td>\n",
       "    </tr>\n",
       "    <tr>\n",
       "      <th>mean</th>\n",
       "      <td>0.027135</td>\n",
       "      <td>11.869514</td>\n",
       "      <td>11.300751</td>\n",
       "      <td>0.000228</td>\n",
       "      <td>0.114462</td>\n",
       "      <td>0.391642</td>\n",
       "      <td>0.016428</td>\n",
       "      <td>0.202266</td>\n",
       "      <td>0.255733</td>\n",
       "    </tr>\n",
       "    <tr>\n",
       "      <th>std</th>\n",
       "      <td>0.124654</td>\n",
       "      <td>21.446670</td>\n",
       "      <td>19.595859</td>\n",
       "      <td>0.015104</td>\n",
       "      <td>0.318377</td>\n",
       "      <td>0.488127</td>\n",
       "      <td>0.127116</td>\n",
       "      <td>0.401697</td>\n",
       "      <td>0.436280</td>\n",
       "    </tr>\n",
       "    <tr>\n",
       "      <th>min</th>\n",
       "      <td>0.000000</td>\n",
       "      <td>0.000000</td>\n",
       "      <td>0.000000</td>\n",
       "      <td>0.000000</td>\n",
       "      <td>0.000000</td>\n",
       "      <td>0.000000</td>\n",
       "      <td>0.000000</td>\n",
       "      <td>0.000000</td>\n",
       "      <td>0.000000</td>\n",
       "    </tr>\n",
       "    <tr>\n",
       "      <th>25%</th>\n",
       "      <td>0.000000</td>\n",
       "      <td>2.290000</td>\n",
       "      <td>2.290000</td>\n",
       "      <td>0.000000</td>\n",
       "      <td>0.000000</td>\n",
       "      <td>0.000000</td>\n",
       "      <td>0.000000</td>\n",
       "      <td>0.000000</td>\n",
       "      <td>0.000000</td>\n",
       "    </tr>\n",
       "    <tr>\n",
       "      <th>50%</th>\n",
       "      <td>0.000000</td>\n",
       "      <td>5.690000</td>\n",
       "      <td>5.690000</td>\n",
       "      <td>0.000000</td>\n",
       "      <td>0.000000</td>\n",
       "      <td>0.000000</td>\n",
       "      <td>0.000000</td>\n",
       "      <td>0.000000</td>\n",
       "      <td>0.000000</td>\n",
       "    </tr>\n",
       "    <tr>\n",
       "      <th>75%</th>\n",
       "      <td>0.000000</td>\n",
       "      <td>13.490000</td>\n",
       "      <td>12.990000</td>\n",
       "      <td>0.000000</td>\n",
       "      <td>0.000000</td>\n",
       "      <td>1.000000</td>\n",
       "      <td>0.000000</td>\n",
       "      <td>0.000000</td>\n",
       "      <td>1.000000</td>\n",
       "    </tr>\n",
       "    <tr>\n",
       "      <th>max</th>\n",
       "      <td>1.000000</td>\n",
       "      <td>722.790000</td>\n",
       "      <td>722.790000</td>\n",
       "      <td>1.000000</td>\n",
       "      <td>1.000000</td>\n",
       "      <td>1.000000</td>\n",
       "      <td>1.000000</td>\n",
       "      <td>1.000000</td>\n",
       "      <td>1.000000</td>\n",
       "    </tr>\n",
       "  </tbody>\n",
       "</table>\n",
       "</div>"
      ],
      "text/plain": [
       "           discount  original price  discounted price  Mostly Negative  \\\n",
       "count  26297.000000    26297.000000      26297.000000     26297.000000   \n",
       "mean       0.027135       11.869514         11.300751         0.000228   \n",
       "std        0.124654       21.446670         19.595859         0.015104   \n",
       "min        0.000000        0.000000          0.000000         0.000000   \n",
       "25%        0.000000        2.290000          2.290000         0.000000   \n",
       "50%        0.000000        5.690000          5.690000         0.000000   \n",
       "75%        0.000000       13.490000         12.990000         0.000000   \n",
       "max        1.000000      722.790000        722.790000         1.000000   \n",
       "\n",
       "       Mostly Positive          None  Overwhelmingly Positive      Positive  \\\n",
       "count     26297.000000  26297.000000             26297.000000  26297.000000   \n",
       "mean          0.114462      0.391642                 0.016428      0.202266   \n",
       "std           0.318377      0.488127                 0.127116      0.401697   \n",
       "min           0.000000      0.000000                 0.000000      0.000000   \n",
       "25%           0.000000      0.000000                 0.000000      0.000000   \n",
       "50%           0.000000      0.000000                 0.000000      0.000000   \n",
       "75%           0.000000      1.000000                 0.000000      0.000000   \n",
       "max           1.000000      1.000000                 1.000000      1.000000   \n",
       "\n",
       "       Very Positive  \n",
       "count   26297.000000  \n",
       "mean        0.255733  \n",
       "std         0.436280  \n",
       "min         0.000000  \n",
       "25%         0.000000  \n",
       "50%         0.000000  \n",
       "75%         1.000000  \n",
       "max         1.000000  "
      ]
     },
     "execution_count": 9,
     "metadata": {},
     "output_type": "execute_result"
    }
   ],
   "source": [
    "# exploratory analysis\n",
    "\n",
    "data.describe()"
   ]
  },
  {
   "cell_type": "code",
   "execution_count": 10,
   "metadata": {},
   "outputs": [],
   "source": [
    "# splitting original price and reviews\n",
    "\n",
    "data_categorical = data[['original price', 'Mostly Negative', 'Mostly Positive', 'None', 'Overwhelmingly Positive',\n",
    "              'Positive', 'Very Positive']]"
   ]
  },
  {
   "cell_type": "code",
   "execution_count": 23,
   "metadata": {},
   "outputs": [
    {
     "name": "stdout",
     "output_type": "stream",
     "text": [
      "Init: initializing centroids\n",
      "Init: initializing clusters\n",
      "Starting iterations...\n",
      "Run 1, iteration: 1/100, moves: 15, cost: 23816.0\n",
      "Run 1, iteration: 2/100, moves: 0, cost: 23816.0\n",
      "Init: initializing centroids\n",
      "Init: initializing clusters\n",
      "Starting iterations...\n",
      "Run 2, iteration: 1/100, moves: 15183, cost: 23420.0\n",
      "Run 2, iteration: 2/100, moves: 365, cost: 23420.0\n",
      "Init: initializing centroids\n",
      "Init: initializing clusters\n",
      "Starting iterations...\n",
      "Run 3, iteration: 1/100, moves: 2150, cost: 23925.0\n",
      "Run 3, iteration: 2/100, moves: 25, cost: 23925.0\n",
      "Init: initializing centroids\n",
      "Init: initializing clusters\n",
      "Starting iterations...\n",
      "Run 4, iteration: 1/100, moves: 1862, cost: 23174.0\n",
      "Run 4, iteration: 2/100, moves: 62, cost: 23174.0\n",
      "Init: initializing centroids\n",
      "Init: initializing clusters\n",
      "Starting iterations...\n",
      "Run 5, iteration: 1/100, moves: 1977, cost: 24570.0\n",
      "Run 5, iteration: 2/100, moves: 33, cost: 24570.0\n",
      "Best run was number 4\n",
      "[[ 0.    0.    1.    0.    0.    0.    0.  ]\n",
      " [ 0.    0.    0.    1.    0.    0.    0.  ]\n",
      " [10.99  0.    0.    0.    1.    0.    0.  ]\n",
      " [10.99  0.    0.    0.    0.    0.    1.  ]\n",
      " [ 0.    0.    0.    0.    0.    0.    1.  ]\n",
      " [ 0.    0.    0.    0.    0.    1.    0.  ]]\n"
     ]
    }
   ],
   "source": [
    "# clustering on training data\n",
    "\n",
    "km = KModes(n_clusters=4, init='Huang', n_init=5, verbose=1)\n",
    "\n",
    "clusters = km.fit_predict(data_categorical)\n",
    "kmodes = km.cluster_centroids_\n",
    "\n",
    "# print the cluster centroids\n",
    "\n",
    "print(kmodes)"
   ]
  },
  {
   "cell_type": "code",
   "execution_count": 24,
   "metadata": {},
   "outputs": [],
   "source": [
    "# 7 clusters = 22904\n",
    "# 6 clusters = 23340\n",
    "# 5 clusters = 23998\n",
    "# 4 clusters = 24674\n",
    "# 3 clusters = 30694\n",
    "# seems the optimal number of clusters is 4"
   ]
  },
  {
   "cell_type": "code",
   "execution_count": 26,
   "metadata": {},
   "outputs": [
    {
     "name": "stdout",
     "output_type": "stream",
     "text": [
      "\n",
      "cluster 0: \n",
      "Mostly Positive\n",
      "\n",
      "cluster 1: \n",
      "None\n",
      "\n",
      "cluster 2: \n",
      "original price\n",
      "Overwhelmingly Positive\n",
      "\n",
      "cluster 3: \n",
      "original price\n",
      "Very Positive\n",
      "\n",
      "cluster 4: \n",
      "Very Positive\n",
      "\n",
      "cluster 5: \n",
      "Positive\n"
     ]
    }
   ],
   "source": [
    "# For each cluster mode (a vector of \"1\" and \"0\")\n",
    "# find and print the column headings where \"1\" appears.\n",
    "\n",
    "shape = kmodes.shape\n",
    "\n",
    "for i in range(shape[0]):\n",
    "    if sum(kmodes[i,:]) == 0:\n",
    "        print(\"\\ncluster \" + str(i) + \": \")\n",
    "    else:\n",
    "        print(\"\\ncluster \" + str(i) + \": \")\n",
    "        cent = kmodes[i,:]\n",
    "        for j in data.columns[np.nonzero(cent)]:\n",
    "            print(j)"
   ]
  },
  {
   "cell_type": "code",
   "execution_count": null,
   "metadata": {},
   "outputs": [],
   "source": [
    "# In retrospect, kmodes and clustering in general probably wasn't the greatest, as all categories are mutually exclusive\n",
    "# Perhaps a linear regression would be a better way to model this .."
   ]
  },
  {
   "cell_type": "code",
   "execution_count": 37,
   "metadata": {},
   "outputs": [
    {
     "data": {
      "text/plain": [
       "Text(0, 0.5, 'Original Price')"
      ]
     },
     "execution_count": 37,
     "metadata": {},
     "output_type": "execute_result"
    },
    {
     "data": {
      "image/png": "[encoded data removed]",
      "text/plain": [
       "<Figure size 432x288 with 1 Axes>"
      ]
     },
     "metadata": {
      "needs_background": "light"
     },
     "output_type": "display_data"
    }
   ],
   "source": [
    "# visualization\n",
    "\n",
    "plt.scatter(data['Positive'], data['original price'])\n",
    "plt.xlabel(\"Positive or Not Positive?\")\n",
    "plt.ylabel(\"Original Price\")"
   ]
  },
  {
   "cell_type": "code",
   "execution_count": 38,
   "metadata": {},
   "outputs": [
    {
     "data": {
      "text/plain": [
       "Text(0, 0.5, 'Original Price')"
      ]
     },
     "execution_count": 38,
     "metadata": {},
     "output_type": "execute_result"
    },
    {
     "data": {
      "image/png": "[encoded data removed]",
      "text/plain": [
       "<Figure size 432x288 with 1 Axes>"
      ]
     },
     "metadata": {
      "needs_background": "light"
     },
     "output_type": "display_data"
    }
   ],
   "source": [
    "plt.scatter(data['Overwhelmingly Positive'], data['original price'])\n",
    "plt.xlabel(\"Overwhelmingly Positive or Not Overwhelmingly Positive?\")\n",
    "plt.ylabel(\"Original Price\")"
   ]
  },
  {
   "cell_type": "code",
   "execution_count": 39,
   "metadata": {},
   "outputs": [
    {
     "data": {
      "text/plain": [
       "Text(0, 0.5, 'Original Price')"
      ]
     },
     "execution_count": 39,
     "metadata": {},
     "output_type": "execute_result"
    },
    {
     "data": {
      "image/png": "[encoded data removed]",
      "text/plain": [
       "<Figure size 432x288 with 1 Axes>"
      ]
     },
     "metadata": {
      "needs_background": "light"
     },
     "output_type": "display_data"
    }
   ],
   "source": [
    "plt.scatter(data['Mostly Negative'], data['original price'])\n",
    "plt.xlabel(\"Mostly Negative or Not Mostly Negative?\")\n",
    "plt.ylabel(\"Original Price\")"
   ]
  },
  {
   "cell_type": "code",
   "execution_count": 40,
   "metadata": {},
   "outputs": [
    {
     "data": {
      "text/plain": [
       "Text(0, 0.5, 'Original Price')"
      ]
     },
     "execution_count": 40,
     "metadata": {},
     "output_type": "execute_result"
    },
    {
     "data": {
      "image/png": "[encoded data removed]",
      "text/plain": [
       "<Figure size 432x288 with 1 Axes>"
      ]
     },
     "metadata": {
      "needs_background": "light"
     },
     "output_type": "display_data"
    }
   ],
   "source": [
    "plt.scatter(data['Very Positive'], data['original price'])\n",
    "plt.xlabel(\"Very Positive or Not Very Positive?\")\n",
    "plt.ylabel(\"Original Price\")"
   ]
  },
  {
   "cell_type": "code",
   "execution_count": 41,
   "metadata": {},
   "outputs": [
    {
     "data": {
      "text/plain": [
       "Text(0, 0.5, 'Original Price')"
      ]
     },
     "execution_count": 41,
     "metadata": {},
     "output_type": "execute_result"
    },
    {
     "data": {
      "image/png": "[encoded data removed]",
      "text/plain": [
       "<Figure size 432x288 with 1 Axes>"
      ]
     },
     "metadata": {
      "needs_background": "light"
     },
     "output_type": "display_data"
    }
   ],
   "source": [
    "plt.scatter(data['None'], data['original price'])\n",
    "plt.xlabel(\"None or Not None?\")\n",
    "plt.ylabel(\"Original Price\")"
   ]
  },
  {
   "cell_type": "code",
   "execution_count": 42,
   "metadata": {},
   "outputs": [
    {
     "data": {
      "text/plain": [
       "Text(0, 0.5, 'Original Price')"
      ]
     },
     "execution_count": 42,
     "metadata": {},
     "output_type": "execute_result"
    },
    {
     "data": {
      "image/png": "[encoded data removed]",
      "text/plain": [
       "<Figure size 432x288 with 1 Axes>"
      ]
     },
     "metadata": {
      "needs_background": "light"
     },
     "output_type": "display_data"
    }
   ],
   "source": [
    "plt.scatter(data['Mostly Positive'], data['original price'])\n",
    "plt.xlabel(\"Moatly Positive or Not Mostly Positive?\")\n",
    "plt.ylabel(\"Original Price\")"
   ]
  },
  {
   "cell_type": "code",
   "execution_count": null,
   "metadata": {},
   "outputs": [],
   "source": []
  },
  {
   "cell_type": "code",
   "execution_count": 35,
   "metadata": {},
   "outputs": [
    {
     "name": "stdout",
     "output_type": "stream",
     "text": [
      "18.989664031622283\n",
      "[ 23.75200264  -3.24405938 -11.1778289   -0.5457057   -9.67257999\n",
      "  -1.60770715]\n",
      "                            OLS Regression Results                            \n",
      "==============================================================================\n",
      "Dep. Variable:         original price   R-squared:                       0.042\n",
      "Model:                            OLS   Adj. R-squared:                  0.041\n",
      "Method:                 Least Squares   F-statistic:                     190.5\n",
      "Date:                Sun, 02 Jun 2019   Prob (F-statistic):          1.87e-238\n",
      "Time:                        17:09:44   Log-Likelihood:            -1.1737e+05\n",
      "No. Observations:               26297   AIC:                         2.348e+05\n",
      "Df Residuals:                   26290   BIC:                         2.348e+05\n",
      "Df Model:                           6                                         \n",
      "Covariance Type:            nonrobust                                         \n",
      "===========================================================================================\n",
      "                              coef    std err          t      P>|t|      [0.025      0.975]\n",
      "-------------------------------------------------------------------------------------------\n",
      "const                      18.9897      0.933     20.343      0.000      17.160      20.819\n",
      "Mostly Negative            23.7520      8.623      2.755      0.006       6.851      40.653\n",
      "Mostly Positive            -3.2441      1.009     -3.216      0.001      -5.222      -1.267\n",
      "None                      -11.1778      0.956    -11.691      0.000     -13.052      -9.304\n",
      "Overwhelmingly Positive    -0.5457      1.375     -0.397      0.692      -3.242       2.150\n",
      "Positive                   -9.6726      0.977     -9.902      0.000     -11.587      -7.758\n",
      "Very Positive              -1.6077      0.968     -1.661      0.097      -3.505       0.290\n",
      "==============================================================================\n",
      "Omnibus:                    45121.492   Durbin-Watson:                   1.772\n",
      "Prob(Omnibus):                  0.000   Jarque-Bera (JB):         78246677.419\n",
      "Skew:                          11.743   Prob(JB):                         0.00\n",
      "Kurtosis:                     269.196   Cond. No.                         75.5\n",
      "==============================================================================\n",
      "\n",
      "Warnings:\n",
      "[1] Standard Errors assume that the covariance matrix of the errors is correctly specified.\n"
     ]
    },
    {
     "name": "stderr",
     "output_type": "stream",
     "text": [
      "c:\\users\\sliu742\\appdata\\local\\programs\\python\\python37-32\\lib\\site-packages\\numpy\\core\\fromnumeric.py:2389: FutureWarning: Method .ptp is deprecated and will be removed in a future version. Use numpy.ptp instead.\n",
      "  return ptp(axis=axis, out=out, **kwargs)\n"
     ]
    }
   ],
   "source": [
    "# setting up x and y variables\n",
    "x = data[['Mostly Negative', 'Mostly Positive', 'None', 'Overwhelmingly Positive',\n",
    "              'Positive', 'Very Positive']]\n",
    "y = data['original price']\n",
    "model = LinearRegression().fit(x,y)\n",
    "\n",
    "# printing intercept and coefficients \n",
    "print(model.intercept_)\n",
    "print(model.coef_)\n",
    "\n",
    "# printing statsmodel\n",
    "x = sm.add_constant(x) # adding a constant\n",
    " \n",
    "model = sm.OLS(y, x).fit()\n",
    "predictions = model.predict(x) \n",
    " \n",
    "print_model = model.summary()\n",
    "print(print_model)"
   ]
  }
 ],
 "metadata": {
  "kernelspec": {
   "display_name": "Python 3",
   "language": "python",
   "name": "python3"
  },
  "language_info": {
   "codemirror_mode": {
    "name": "ipython",
    "version": 3
   },
   "file_extension": ".py",
   "mimetype": "text/x-python",
   "name": "python",
   "nbconvert_exporter": "python",
   "pygments_lexer": "ipython3",
   "version": "3.7.2"
  }
 },
 "nbformat": 4,
 "nbformat_minor": 2
}
